{
 "cells": [
  {
   "cell_type": "code",
   "execution_count": 1,
   "id": "initial_id",
   "metadata": {
    "collapsed": true,
    "ExecuteTime": {
     "end_time": "2023-12-03T12:31:56.812774Z",
     "start_time": "2023-12-03T12:31:54.678860Z"
    }
   },
   "outputs": [],
   "source": [
    "import argparse\n",
    "\n",
    "import os.path as osp\n",
    "import time\n",
    "\n",
    "import torch\n",
    "import torch.nn.functional as F\n",
    "\n",
    "import torch_geometric.transforms as T\n",
    "from torch_geometric.datasets import Planetoid\n",
    "from torch_geometric.logging import init_wandb, log\n",
    "from torch_geometric.nn import GCNConv\n",
    "\n",
    "import sys\n",
    "sys.argv = ['GCN.ipynb']\n"
   ]
  },
  {
   "cell_type": "code",
   "execution_count": 2,
   "outputs": [],
   "source": [
    "parser = argparse.ArgumentParser()\n",
    "parser.add_argument('--dataset', type=str, default='Cora')\n",
    "parser.add_argument('--hidden_channels', type=int, default=16)\n",
    "parser.add_argument('--lr', type=float, default=0.01)\n",
    "parser.add_argument('--epochs', type=int, default=200)\n",
    "parser.add_argument('--use_gdc',  action='store_true', help='Use GDC')\n",
    "parser.add_argument('--wandb', action='store_true', help='Track experiment')\n",
    "args = parser.parse_args()"
   ],
   "metadata": {
    "collapsed": false,
    "ExecuteTime": {
     "end_time": "2023-12-03T12:31:56.822498200Z",
     "start_time": "2023-12-03T12:31:56.807200900Z"
    }
   },
   "id": "1914c856de48d43e"
  },
  {
   "cell_type": "markdown",
   "source": [
    "这是因为调用parser.parse_args()会读取系统参数：sys.argv[]，命令行调用时是正确参数，而在jupyter notebook中调用时，sys.argv的值为ipykrnel_launcher.py："
   ],
   "metadata": {
    "collapsed": false
   },
   "id": "75fd94481fec4e06"
  },
  {
   "cell_type": "code",
   "execution_count": 3,
   "outputs": [
    {
     "data": {
      "text/plain": "Namespace(dataset='Cora', hidden_channels=16, lr=0.01, epochs=200, use_gdc=False, wandb=False)"
     },
     "execution_count": 3,
     "metadata": {},
     "output_type": "execute_result"
    }
   ],
   "source": [
    "args"
   ],
   "metadata": {
    "collapsed": false,
    "ExecuteTime": {
     "end_time": "2023-12-03T12:31:56.859728Z",
     "start_time": "2023-12-03T12:31:56.824787400Z"
    }
   },
   "id": "2fb1a6e60f242acd"
  },
  {
   "cell_type": "code",
   "execution_count": 4,
   "outputs": [],
   "source": [
    "if torch.cuda.is_available():\n",
    "    device = torch.device('cuda')\n",
    "elif hasattr(torch.backends, 'mps') and torch.backends.mps.is_available():\n",
    "    device = torch.device('mps')\n",
    "else:\n",
    "    device = torch.device('cpu')"
   ],
   "metadata": {
    "collapsed": false,
    "ExecuteTime": {
     "end_time": "2023-12-03T12:31:56.895946200Z",
     "start_time": "2023-12-03T12:31:56.877798800Z"
    }
   },
   "id": "3dd35fd0d5a560f0"
  },
  {
   "cell_type": "code",
   "execution_count": 5,
   "outputs": [],
   "source": [
    "init_wandb(\n",
    "    name=f'GCN-{args.dataset}',\n",
    "    lr = args.lr,\n",
    "    epochs=args.epochs,\n",
    "    hidden_channels=args.hidden_channels,\n",
    "    device=device,\n",
    ")"
   ],
   "metadata": {
    "collapsed": false,
    "ExecuteTime": {
     "end_time": "2023-12-03T12:31:56.911948200Z",
     "start_time": "2023-12-03T12:31:56.885672400Z"
    }
   },
   "id": "d0027f7083df7e3f"
  },
  {
   "cell_type": "code",
   "execution_count": 6,
   "outputs": [],
   "source": [
    "path = osp.join('D:\\courses23fall\\computational_finance\\a2', '..', 'data', 'Planetoid')\n",
    "dataset = Planetoid(path, args.dataset, transform=T.NormalizeFeatures())\n",
    "data = dataset[0].to(device)"
   ],
   "metadata": {
    "collapsed": false,
    "ExecuteTime": {
     "end_time": "2023-12-03T12:31:57.039492100Z",
     "start_time": "2023-12-03T12:31:56.900251500Z"
    }
   },
   "id": "45af699187d3dcd0"
  },
  {
   "cell_type": "code",
   "execution_count": 7,
   "outputs": [],
   "source": [
    "if args.use_gdc:\n",
    "    transform = T.GDC(\n",
    "        self_loop_weight=1,\n",
    "        normalization_in='sym',\n",
    "        normalization_out='col',\n",
    "        diffusion_kwargs=dict(method='ppr', alpha=0.05),\n",
    "        sparsification_kwargs=dict(method='topk', k=128, dim=0),\n",
    "        exact=True,\n",
    "    )\n",
    "    data = transform(data)"
   ],
   "metadata": {
    "collapsed": false,
    "ExecuteTime": {
     "end_time": "2023-12-03T12:31:57.055452500Z",
     "start_time": "2023-12-03T12:31:57.041515800Z"
    }
   },
   "id": "d3a4589cbf8912a2"
  },
  {
   "cell_type": "code",
   "execution_count": 8,
   "outputs": [
    {
     "data": {
      "text/plain": "Data(x=[2708, 1433], edge_index=[2, 10556], y=[2708], train_mask=[2708], val_mask=[2708], test_mask=[2708])"
     },
     "execution_count": 8,
     "metadata": {},
     "output_type": "execute_result"
    }
   ],
   "source": [
    "data"
   ],
   "metadata": {
    "collapsed": false,
    "ExecuteTime": {
     "end_time": "2023-12-03T12:31:57.083275400Z",
     "start_time": "2023-12-03T12:31:57.056453Z"
    }
   },
   "id": "a1a4ce6534ea9771"
  },
  {
   "cell_type": "code",
   "execution_count": 9,
   "outputs": [
    {
     "data": {
      "text/plain": "Cora()"
     },
     "execution_count": 9,
     "metadata": {},
     "output_type": "execute_result"
    }
   ],
   "source": [
    "dataset"
   ],
   "metadata": {
    "collapsed": false,
    "ExecuteTime": {
     "end_time": "2023-12-03T12:31:57.093275500Z",
     "start_time": "2023-12-03T12:31:57.073259400Z"
    }
   },
   "id": "d5e9fbeb68b89db6"
  },
  {
   "cell_type": "code",
   "execution_count": 10,
   "outputs": [
    {
     "data": {
      "text/plain": "tensor([ True,  True,  True,  ..., False, False, False], device='cuda:0')"
     },
     "execution_count": 10,
     "metadata": {},
     "output_type": "execute_result"
    }
   ],
   "source": [
    "import numpy as np\n",
    "data.train_mask"
   ],
   "metadata": {
    "collapsed": false,
    "ExecuteTime": {
     "end_time": "2023-12-03T12:31:58.595939300Z",
     "start_time": "2023-12-03T12:31:57.087275900Z"
    }
   },
   "id": "776614b56854f4c5"
  },
  {
   "cell_type": "code",
   "execution_count": 11,
   "outputs": [
    {
     "name": "stdout",
     "output_type": "stream",
     "text": [
      "Epoch: 001, Loss: 1.9458, Train: 0.2143, Val: 0.1400, Test: 0.1470\n",
      "Epoch: 002, Loss: 1.9405, Train: 0.2571, Val: 0.1740, Test: 0.1940\n",
      "Epoch: 003, Loss: 1.9347, Train: 0.3214, Val: 0.1740, Test: 0.1940\n",
      "Epoch: 004, Loss: 1.9287, Train: 0.4714, Val: 0.2160, Test: 0.2460\n",
      "Epoch: 005, Loss: 1.9209, Train: 0.4643, Val: 0.2120, Test: 0.2460\n",
      "Epoch: 006, Loss: 1.9155, Train: 0.4929, Val: 0.2580, Test: 0.2690\n",
      "Epoch: 007, Loss: 1.9063, Train: 0.5500, Val: 0.3280, Test: 0.3180\n",
      "Epoch: 008, Loss: 1.8997, Train: 0.5786, Val: 0.3920, Test: 0.3610\n",
      "Epoch: 009, Loss: 1.8950, Train: 0.6143, Val: 0.4160, Test: 0.3930\n",
      "Epoch: 010, Loss: 1.8712, Train: 0.6143, Val: 0.4100, Test: 0.3930\n",
      "Epoch: 011, Loss: 1.8655, Train: 0.6286, Val: 0.4060, Test: 0.3930\n",
      "Epoch: 012, Loss: 1.8639, Train: 0.6286, Val: 0.3980, Test: 0.3930\n",
      "Epoch: 013, Loss: 1.8484, Train: 0.6500, Val: 0.4160, Test: 0.3930\n",
      "Epoch: 014, Loss: 1.8414, Train: 0.6643, Val: 0.4400, Test: 0.4290\n",
      "Epoch: 015, Loss: 1.8283, Train: 0.7000, Val: 0.4660, Test: 0.4520\n",
      "Epoch: 016, Loss: 1.8120, Train: 0.7571, Val: 0.5040, Test: 0.4850\n",
      "Epoch: 017, Loss: 1.7944, Train: 0.7857, Val: 0.5260, Test: 0.5070\n",
      "Epoch: 018, Loss: 1.7817, Train: 0.8143, Val: 0.5640, Test: 0.5380\n",
      "Epoch: 019, Loss: 1.7622, Train: 0.8357, Val: 0.5900, Test: 0.5640\n",
      "Epoch: 020, Loss: 1.7753, Train: 0.8571, Val: 0.6140, Test: 0.5920\n",
      "Epoch: 021, Loss: 1.7519, Train: 0.9000, Val: 0.6380, Test: 0.6240\n",
      "Epoch: 022, Loss: 1.7359, Train: 0.9071, Val: 0.6580, Test: 0.6670\n",
      "Epoch: 023, Loss: 1.7051, Train: 0.9214, Val: 0.6780, Test: 0.6970\n",
      "Epoch: 024, Loss: 1.6984, Train: 0.9286, Val: 0.6840, Test: 0.7040\n",
      "Epoch: 025, Loss: 1.6899, Train: 0.9214, Val: 0.6880, Test: 0.7190\n",
      "Epoch: 026, Loss: 1.6630, Train: 0.9214, Val: 0.6960, Test: 0.7250\n",
      "Epoch: 027, Loss: 1.6502, Train: 0.9214, Val: 0.7000, Test: 0.7220\n",
      "Epoch: 028, Loss: 1.6412, Train: 0.9214, Val: 0.7000, Test: 0.7220\n",
      "Epoch: 029, Loss: 1.5982, Train: 0.9286, Val: 0.6920, Test: 0.7220\n",
      "Epoch: 030, Loss: 1.6092, Train: 0.9357, Val: 0.6900, Test: 0.7220\n",
      "Epoch: 031, Loss: 1.5879, Train: 0.9357, Val: 0.6920, Test: 0.7220\n",
      "Epoch: 032, Loss: 1.5509, Train: 0.9357, Val: 0.6900, Test: 0.7220\n",
      "Epoch: 033, Loss: 1.5281, Train: 0.9429, Val: 0.6900, Test: 0.7220\n",
      "Epoch: 034, Loss: 1.5302, Train: 0.9429, Val: 0.6980, Test: 0.7220\n",
      "Epoch: 035, Loss: 1.4846, Train: 0.9429, Val: 0.7080, Test: 0.7230\n",
      "Epoch: 036, Loss: 1.4754, Train: 0.9429, Val: 0.7140, Test: 0.7260\n",
      "Epoch: 037, Loss: 1.4610, Train: 0.9429, Val: 0.7180, Test: 0.7290\n",
      "Epoch: 038, Loss: 1.4475, Train: 0.9429, Val: 0.7280, Test: 0.7390\n",
      "Epoch: 039, Loss: 1.4152, Train: 0.9429, Val: 0.7300, Test: 0.7560\n",
      "Epoch: 040, Loss: 1.4158, Train: 0.9429, Val: 0.7340, Test: 0.7590\n",
      "Epoch: 041, Loss: 1.3910, Train: 0.9500, Val: 0.7440, Test: 0.7650\n",
      "Epoch: 042, Loss: 1.3840, Train: 0.9500, Val: 0.7520, Test: 0.7710\n",
      "Epoch: 043, Loss: 1.3724, Train: 0.9571, Val: 0.7540, Test: 0.7730\n",
      "Epoch: 044, Loss: 1.3523, Train: 0.9571, Val: 0.7520, Test: 0.7730\n",
      "Epoch: 045, Loss: 1.3160, Train: 0.9500, Val: 0.7540, Test: 0.7730\n",
      "Epoch: 046, Loss: 1.2531, Train: 0.9571, Val: 0.7580, Test: 0.7920\n",
      "Epoch: 047, Loss: 1.2620, Train: 0.9571, Val: 0.7600, Test: 0.7960\n",
      "Epoch: 048, Loss: 1.2489, Train: 0.9571, Val: 0.7600, Test: 0.7960\n",
      "Epoch: 049, Loss: 1.2341, Train: 0.9500, Val: 0.7580, Test: 0.7960\n",
      "Epoch: 050, Loss: 1.2004, Train: 0.9500, Val: 0.7620, Test: 0.7900\n",
      "Epoch: 051, Loss: 1.1947, Train: 0.9500, Val: 0.7580, Test: 0.7900\n",
      "Epoch: 052, Loss: 1.1773, Train: 0.9500, Val: 0.7660, Test: 0.8020\n",
      "Epoch: 053, Loss: 1.1453, Train: 0.9714, Val: 0.7760, Test: 0.7950\n",
      "Epoch: 054, Loss: 1.1271, Train: 0.9786, Val: 0.7800, Test: 0.8000\n",
      "Epoch: 055, Loss: 1.1155, Train: 0.9786, Val: 0.7840, Test: 0.8030\n",
      "Epoch: 056, Loss: 1.0952, Train: 0.9786, Val: 0.7880, Test: 0.8060\n",
      "Epoch: 057, Loss: 1.0690, Train: 0.9714, Val: 0.7740, Test: 0.8060\n",
      "Epoch: 058, Loss: 1.0802, Train: 0.9714, Val: 0.7760, Test: 0.8060\n",
      "Epoch: 059, Loss: 1.0298, Train: 0.9714, Val: 0.7760, Test: 0.8060\n",
      "Epoch: 060, Loss: 1.0093, Train: 0.9714, Val: 0.7720, Test: 0.8060\n",
      "Epoch: 061, Loss: 1.0569, Train: 0.9786, Val: 0.7680, Test: 0.8060\n",
      "Epoch: 062, Loss: 1.0191, Train: 0.9786, Val: 0.7660, Test: 0.8060\n",
      "Epoch: 063, Loss: 0.9722, Train: 0.9786, Val: 0.7640, Test: 0.8060\n",
      "Epoch: 064, Loss: 0.9756, Train: 0.9786, Val: 0.7680, Test: 0.8060\n",
      "Epoch: 065, Loss: 0.9214, Train: 0.9786, Val: 0.7760, Test: 0.8060\n",
      "Epoch: 066, Loss: 0.9150, Train: 0.9786, Val: 0.7760, Test: 0.8060\n",
      "Epoch: 067, Loss: 0.9121, Train: 0.9786, Val: 0.7820, Test: 0.8060\n",
      "Epoch: 068, Loss: 0.8724, Train: 0.9786, Val: 0.7720, Test: 0.8060\n",
      "Epoch: 069, Loss: 0.8929, Train: 0.9786, Val: 0.7720, Test: 0.8060\n",
      "Epoch: 070, Loss: 0.8897, Train: 0.9786, Val: 0.7780, Test: 0.8060\n",
      "Epoch: 071, Loss: 0.8609, Train: 0.9786, Val: 0.7820, Test: 0.8060\n",
      "Epoch: 072, Loss: 0.8383, Train: 0.9786, Val: 0.7860, Test: 0.8060\n",
      "Epoch: 073, Loss: 0.8182, Train: 0.9786, Val: 0.7880, Test: 0.8060\n",
      "Epoch: 074, Loss: 0.7814, Train: 0.9786, Val: 0.7840, Test: 0.8060\n",
      "Epoch: 075, Loss: 0.8279, Train: 0.9786, Val: 0.7820, Test: 0.8060\n",
      "Epoch: 076, Loss: 0.7936, Train: 0.9786, Val: 0.7840, Test: 0.8060\n",
      "Epoch: 077, Loss: 0.7446, Train: 0.9786, Val: 0.7800, Test: 0.8060\n",
      "Epoch: 078, Loss: 0.7716, Train: 0.9786, Val: 0.7840, Test: 0.8060\n",
      "Epoch: 079, Loss: 0.7799, Train: 0.9786, Val: 0.7860, Test: 0.8060\n",
      "Epoch: 080, Loss: 0.7494, Train: 0.9786, Val: 0.7880, Test: 0.8060\n",
      "Epoch: 081, Loss: 0.7327, Train: 0.9786, Val: 0.7840, Test: 0.8060\n",
      "Epoch: 082, Loss: 0.7586, Train: 0.9786, Val: 0.7860, Test: 0.8060\n",
      "Epoch: 083, Loss: 0.7234, Train: 0.9786, Val: 0.7880, Test: 0.8060\n",
      "Epoch: 084, Loss: 0.6878, Train: 0.9786, Val: 0.7880, Test: 0.8060\n",
      "Epoch: 085, Loss: 0.6790, Train: 0.9786, Val: 0.7920, Test: 0.8100\n",
      "Epoch: 086, Loss: 0.6811, Train: 0.9786, Val: 0.7980, Test: 0.8150\n",
      "Epoch: 087, Loss: 0.6998, Train: 0.9786, Val: 0.8000, Test: 0.8150\n",
      "Epoch: 088, Loss: 0.6621, Train: 0.9786, Val: 0.7980, Test: 0.8150\n",
      "Epoch: 089, Loss: 0.7012, Train: 0.9786, Val: 0.8020, Test: 0.8090\n",
      "Epoch: 090, Loss: 0.7009, Train: 0.9786, Val: 0.8020, Test: 0.8090\n",
      "Epoch: 091, Loss: 0.6449, Train: 0.9786, Val: 0.8000, Test: 0.8090\n",
      "Epoch: 092, Loss: 0.6966, Train: 0.9857, Val: 0.7980, Test: 0.8090\n",
      "Epoch: 093, Loss: 0.6210, Train: 0.9857, Val: 0.7920, Test: 0.8090\n",
      "Epoch: 094, Loss: 0.6828, Train: 0.9857, Val: 0.7940, Test: 0.8090\n",
      "Epoch: 095, Loss: 0.6799, Train: 0.9857, Val: 0.7900, Test: 0.8090\n",
      "Epoch: 096, Loss: 0.6450, Train: 0.9857, Val: 0.7920, Test: 0.8090\n",
      "Epoch: 097, Loss: 0.6340, Train: 0.9857, Val: 0.7900, Test: 0.8090\n",
      "Epoch: 098, Loss: 0.6494, Train: 0.9857, Val: 0.7960, Test: 0.8090\n",
      "Epoch: 099, Loss: 0.6165, Train: 0.9857, Val: 0.7940, Test: 0.8090\n",
      "Epoch: 100, Loss: 0.5781, Train: 0.9929, Val: 0.7960, Test: 0.8090\n",
      "Epoch: 101, Loss: 0.5937, Train: 0.9857, Val: 0.7980, Test: 0.8090\n",
      "Epoch: 102, Loss: 0.5890, Train: 0.9857, Val: 0.7960, Test: 0.8090\n",
      "Epoch: 103, Loss: 0.6078, Train: 0.9857, Val: 0.7960, Test: 0.8090\n",
      "Epoch: 104, Loss: 0.6330, Train: 0.9857, Val: 0.7960, Test: 0.8090\n",
      "Epoch: 105, Loss: 0.5581, Train: 0.9857, Val: 0.7920, Test: 0.8090\n",
      "Epoch: 106, Loss: 0.6198, Train: 0.9929, Val: 0.7960, Test: 0.8090\n",
      "Epoch: 107, Loss: 0.5782, Train: 0.9929, Val: 0.7940, Test: 0.8090\n",
      "Epoch: 108, Loss: 0.5495, Train: 0.9929, Val: 0.7980, Test: 0.8090\n",
      "Epoch: 109, Loss: 0.5297, Train: 0.9929, Val: 0.8000, Test: 0.8090\n",
      "Epoch: 110, Loss: 0.5776, Train: 0.9929, Val: 0.7980, Test: 0.8090\n",
      "Epoch: 111, Loss: 0.5497, Train: 0.9929, Val: 0.8000, Test: 0.8090\n",
      "Epoch: 112, Loss: 0.5767, Train: 0.9929, Val: 0.7980, Test: 0.8090\n",
      "Epoch: 113, Loss: 0.5133, Train: 0.9929, Val: 0.7980, Test: 0.8090\n",
      "Epoch: 114, Loss: 0.5407, Train: 0.9929, Val: 0.7960, Test: 0.8090\n",
      "Epoch: 115, Loss: 0.5287, Train: 0.9929, Val: 0.7940, Test: 0.8090\n",
      "Epoch: 116, Loss: 0.5715, Train: 0.9929, Val: 0.7960, Test: 0.8090\n",
      "Epoch: 117, Loss: 0.5635, Train: 0.9929, Val: 0.7920, Test: 0.8090\n",
      "Epoch: 118, Loss: 0.5350, Train: 0.9929, Val: 0.7880, Test: 0.8090\n",
      "Epoch: 119, Loss: 0.5231, Train: 0.9857, Val: 0.7940, Test: 0.8090\n",
      "Epoch: 120, Loss: 0.5743, Train: 0.9857, Val: 0.7980, Test: 0.8090\n",
      "Epoch: 121, Loss: 0.5443, Train: 0.9857, Val: 0.8000, Test: 0.8090\n",
      "Epoch: 122, Loss: 0.5479, Train: 0.9857, Val: 0.8000, Test: 0.8090\n",
      "Epoch: 123, Loss: 0.5470, Train: 0.9857, Val: 0.8040, Test: 0.8140\n",
      "Epoch: 124, Loss: 0.4499, Train: 0.9857, Val: 0.8020, Test: 0.8140\n",
      "Epoch: 125, Loss: 0.4818, Train: 0.9929, Val: 0.7960, Test: 0.8140\n",
      "Epoch: 126, Loss: 0.4631, Train: 0.9929, Val: 0.7980, Test: 0.8140\n",
      "Epoch: 127, Loss: 0.5169, Train: 0.9929, Val: 0.7980, Test: 0.8140\n",
      "Epoch: 128, Loss: 0.4136, Train: 0.9929, Val: 0.8040, Test: 0.8140\n",
      "Epoch: 129, Loss: 0.5187, Train: 0.9929, Val: 0.8000, Test: 0.8140\n",
      "Epoch: 130, Loss: 0.5259, Train: 0.9929, Val: 0.7980, Test: 0.8140\n",
      "Epoch: 131, Loss: 0.4852, Train: 0.9929, Val: 0.7960, Test: 0.8140\n",
      "Epoch: 132, Loss: 0.4917, Train: 0.9929, Val: 0.7980, Test: 0.8140\n",
      "Epoch: 133, Loss: 0.4748, Train: 0.9929, Val: 0.8000, Test: 0.8140\n",
      "Epoch: 134, Loss: 0.4154, Train: 0.9929, Val: 0.7980, Test: 0.8140\n",
      "Epoch: 135, Loss: 0.4889, Train: 0.9929, Val: 0.7960, Test: 0.8140\n",
      "Epoch: 136, Loss: 0.4805, Train: 0.9929, Val: 0.7940, Test: 0.8140\n",
      "Epoch: 137, Loss: 0.4454, Train: 0.9929, Val: 0.7940, Test: 0.8140\n",
      "Epoch: 138, Loss: 0.4574, Train: 0.9929, Val: 0.7980, Test: 0.8140\n",
      "Epoch: 139, Loss: 0.5025, Train: 0.9929, Val: 0.8000, Test: 0.8140\n",
      "Epoch: 140, Loss: 0.4747, Train: 0.9929, Val: 0.8020, Test: 0.8140\n",
      "Epoch: 141, Loss: 0.4327, Train: 0.9929, Val: 0.8000, Test: 0.8140\n",
      "Epoch: 142, Loss: 0.4419, Train: 0.9929, Val: 0.8000, Test: 0.8140\n",
      "Epoch: 143, Loss: 0.4471, Train: 0.9929, Val: 0.7980, Test: 0.8140\n",
      "Epoch: 144, Loss: 0.4595, Train: 0.9929, Val: 0.8000, Test: 0.8140\n",
      "Epoch: 145, Loss: 0.4288, Train: 0.9929, Val: 0.8020, Test: 0.8140\n",
      "Epoch: 146, Loss: 0.4264, Train: 0.9929, Val: 0.8040, Test: 0.8140\n",
      "Epoch: 147, Loss: 0.4426, Train: 0.9929, Val: 0.8020, Test: 0.8140\n",
      "Epoch: 148, Loss: 0.4021, Train: 0.9929, Val: 0.8040, Test: 0.8140\n",
      "Epoch: 149, Loss: 0.4438, Train: 0.9929, Val: 0.8020, Test: 0.8140\n",
      "Epoch: 150, Loss: 0.4173, Train: 0.9929, Val: 0.8000, Test: 0.8140\n",
      "Epoch: 151, Loss: 0.4458, Train: 0.9929, Val: 0.8040, Test: 0.8140\n",
      "Epoch: 152, Loss: 0.4592, Train: 0.9929, Val: 0.8060, Test: 0.8140\n",
      "Epoch: 153, Loss: 0.4790, Train: 0.9929, Val: 0.8000, Test: 0.8140\n",
      "Epoch: 154, Loss: 0.4107, Train: 0.9929, Val: 0.8000, Test: 0.8140\n",
      "Epoch: 155, Loss: 0.4147, Train: 0.9929, Val: 0.8020, Test: 0.8140\n",
      "Epoch: 156, Loss: 0.4366, Train: 0.9929, Val: 0.7960, Test: 0.8140\n",
      "Epoch: 157, Loss: 0.4404, Train: 0.9929, Val: 0.7980, Test: 0.8140\n",
      "Epoch: 158, Loss: 0.4276, Train: 0.9929, Val: 0.7960, Test: 0.8140\n",
      "Epoch: 159, Loss: 0.3953, Train: 0.9929, Val: 0.7980, Test: 0.8140\n",
      "Epoch: 160, Loss: 0.4235, Train: 0.9929, Val: 0.7980, Test: 0.8140\n",
      "Epoch: 161, Loss: 0.4338, Train: 0.9929, Val: 0.7980, Test: 0.8140\n",
      "Epoch: 162, Loss: 0.3819, Train: 0.9929, Val: 0.7960, Test: 0.8140\n",
      "Epoch: 163, Loss: 0.4185, Train: 0.9929, Val: 0.7980, Test: 0.8140\n",
      "Epoch: 164, Loss: 0.4094, Train: 0.9929, Val: 0.7960, Test: 0.8140\n",
      "Epoch: 165, Loss: 0.3792, Train: 0.9929, Val: 0.7980, Test: 0.8140\n",
      "Epoch: 166, Loss: 0.3814, Train: 1.0000, Val: 0.7980, Test: 0.8140\n",
      "Epoch: 167, Loss: 0.4492, Train: 1.0000, Val: 0.8080, Test: 0.8160\n",
      "Epoch: 168, Loss: 0.4038, Train: 1.0000, Val: 0.8060, Test: 0.8160\n",
      "Epoch: 169, Loss: 0.4276, Train: 1.0000, Val: 0.8020, Test: 0.8160\n",
      "Epoch: 170, Loss: 0.4332, Train: 1.0000, Val: 0.8060, Test: 0.8160\n",
      "Epoch: 171, Loss: 0.3798, Train: 1.0000, Val: 0.8040, Test: 0.8160\n",
      "Epoch: 172, Loss: 0.3980, Train: 1.0000, Val: 0.8000, Test: 0.8160\n",
      "Epoch: 173, Loss: 0.4272, Train: 0.9929, Val: 0.7980, Test: 0.8160\n",
      "Epoch: 174, Loss: 0.4182, Train: 0.9929, Val: 0.7960, Test: 0.8160\n",
      "Epoch: 175, Loss: 0.4053, Train: 1.0000, Val: 0.7960, Test: 0.8160\n",
      "Epoch: 176, Loss: 0.4358, Train: 1.0000, Val: 0.7940, Test: 0.8160\n",
      "Epoch: 177, Loss: 0.3636, Train: 1.0000, Val: 0.7960, Test: 0.8160\n",
      "Epoch: 178, Loss: 0.4091, Train: 1.0000, Val: 0.7960, Test: 0.8160\n",
      "Epoch: 179, Loss: 0.3435, Train: 1.0000, Val: 0.7960, Test: 0.8160\n",
      "Epoch: 180, Loss: 0.4498, Train: 1.0000, Val: 0.7960, Test: 0.8160\n",
      "Epoch: 181, Loss: 0.4155, Train: 1.0000, Val: 0.7960, Test: 0.8160\n",
      "Epoch: 182, Loss: 0.3933, Train: 1.0000, Val: 0.7980, Test: 0.8160\n",
      "Epoch: 183, Loss: 0.3735, Train: 1.0000, Val: 0.7960, Test: 0.8160\n",
      "Epoch: 184, Loss: 0.3925, Train: 0.9929, Val: 0.7960, Test: 0.8160\n",
      "Epoch: 185, Loss: 0.3659, Train: 0.9929, Val: 0.7960, Test: 0.8160\n",
      "Epoch: 186, Loss: 0.3286, Train: 0.9929, Val: 0.7980, Test: 0.8160\n",
      "Epoch: 187, Loss: 0.3685, Train: 0.9929, Val: 0.8000, Test: 0.8160\n",
      "Epoch: 188, Loss: 0.3165, Train: 0.9929, Val: 0.8020, Test: 0.8160\n",
      "Epoch: 189, Loss: 0.4027, Train: 1.0000, Val: 0.8060, Test: 0.8160\n",
      "Epoch: 190, Loss: 0.4112, Train: 1.0000, Val: 0.8020, Test: 0.8160\n",
      "Epoch: 191, Loss: 0.3999, Train: 1.0000, Val: 0.8000, Test: 0.8160\n",
      "Epoch: 192, Loss: 0.4005, Train: 1.0000, Val: 0.7980, Test: 0.8160\n",
      "Epoch: 193, Loss: 0.3356, Train: 1.0000, Val: 0.7980, Test: 0.8160\n",
      "Epoch: 194, Loss: 0.3375, Train: 1.0000, Val: 0.7940, Test: 0.8160\n",
      "Epoch: 195, Loss: 0.3585, Train: 1.0000, Val: 0.7960, Test: 0.8160\n",
      "Epoch: 196, Loss: 0.3409, Train: 1.0000, Val: 0.8020, Test: 0.8160\n",
      "Epoch: 197, Loss: 0.3728, Train: 1.0000, Val: 0.8040, Test: 0.8160\n",
      "Epoch: 198, Loss: 0.3547, Train: 1.0000, Val: 0.8040, Test: 0.8160\n",
      "Epoch: 199, Loss: 0.3647, Train: 0.9929, Val: 0.8020, Test: 0.8160\n",
      "Epoch: 200, Loss: 0.3322, Train: 0.9929, Val: 0.7980, Test: 0.8160\n",
      "Median time per epoch: 0.6165s\n"
     ]
    }
   ],
   "source": [
    "class GCN(torch.nn.Module):\n",
    "    def __init__(self, in_channels, hidden_channels, out_channels):\n",
    "        super().__init__()\n",
    "        self.conv1 = GCNConv(in_channels, hidden_channels,\n",
    "                             normalize=not args.use_gdc)\n",
    "        self.conv2 = GCNConv(hidden_channels, out_channels,\n",
    "                             normalize=not args.use_gdc)\n",
    "\n",
    "    def forward(self, x, edge_index, edge_weight=None):\n",
    "        x = F.dropout(x, p=0.5, training=self.training)\n",
    "        x = self.conv1(x, edge_index, edge_weight).relu()\n",
    "        x = F.dropout(x, p=0.5, training=self.training)\n",
    "        x = self.conv2(x, edge_index, edge_weight)\n",
    "        return x\n",
    "\n",
    "\n",
    "model = GCN(\n",
    "    in_channels=dataset.num_features,\n",
    "    hidden_channels=args.hidden_channels,\n",
    "    out_channels=dataset.num_classes,\n",
    ").to(device)\n",
    "\n",
    "optimizer = torch.optim.Adam([\n",
    "    dict(params=model.conv1.parameters(), weight_decay=5e-4),\n",
    "    dict(params=model.conv2.parameters(), weight_decay=0)\n",
    "], lr=args.lr)  # Only perform weight-decay on first convolution.\n",
    "\n",
    "\n",
    "def train():\n",
    "    model.train()\n",
    "    optimizer.zero_grad()\n",
    "    out = model(data.x, data.edge_index, data.edge_attr)\n",
    "    loss = F.cross_entropy(out[data.train_mask], data.y[data.train_mask])\n",
    "    loss.backward()\n",
    "    optimizer.step()\n",
    "    return float(loss)\n",
    "\n",
    "\n",
    "@torch.no_grad()\n",
    "def test():\n",
    "    model.eval()\n",
    "    pred = model(data.x, data.edge_index, data.edge_attr).argmax(dim=-1)\n",
    "\n",
    "    accs = []\n",
    "    for mask in [data.train_mask, data.val_mask, data.test_mask]:\n",
    "        accs.append(int((pred[mask] == data.y[mask]).sum()) / int(mask.sum()))\n",
    "    return accs\n",
    "\n",
    "\n",
    "best_val_acc = test_acc = 0\n",
    "times = []\n",
    "for epoch in range(1, args.epochs + 1):\n",
    "    start = time.time()\n",
    "    loss = train()\n",
    "    train_acc, val_acc, tmp_test_acc = test()\n",
    "    if val_acc > best_val_acc:\n",
    "        best_val_acc = val_acc\n",
    "        test_acc = tmp_test_acc\n",
    "    log(Epoch=epoch, Loss=loss, Train=train_acc, Val=val_acc, Test=test_acc)\n",
    "    times.append(loss)\n",
    "print(f'Median time per epoch: {torch.tensor(times).median():.4f}s')"
   ],
   "metadata": {
    "collapsed": false,
    "ExecuteTime": {
     "end_time": "2023-12-03T12:32:01.295028200Z",
     "start_time": "2023-12-03T12:31:58.601938300Z"
    }
   },
   "id": "3c43775f6ff8b4e"
  },
  {
   "cell_type": "code",
   "execution_count": 12,
   "outputs": [],
   "source": [
    "import matplotlib.pyplot"
   ],
   "metadata": {
    "collapsed": false,
    "ExecuteTime": {
     "end_time": "2023-12-03T12:32:01.312026300Z",
     "start_time": "2023-12-03T12:32:01.297018800Z"
    }
   },
   "id": "c890ba960e725ff1"
  },
  {
   "cell_type": "code",
   "execution_count": 14,
   "outputs": [
    {
     "name": "stderr",
     "output_type": "stream",
     "text": [
      "C:\\Users\\HP\\AppData\\Local\\Temp\\ipykernel_12080\\4275228004.py:9: MatplotlibDeprecationWarning: The seaborn styles shipped by Matplotlib are deprecated since 3.6, as they no longer correspond to the styles shipped by seaborn. However, they will remain available as 'seaborn-v0_8-<style>'. Alternatively, directly use the seaborn API instead.\n",
      "  plt.style.use('seaborn-darkgrid')  # 使用seaborn风格，也可以选择其他风格\n"
     ]
    },
    {
     "data": {
      "text/plain": "<Figure size 640x480 with 1 Axes>",
      "image/png": "[encoded data removed]"
     },
     "metadata": {},
     "output_type": "display_data"
    }
   ],
   "source": [
    "import matplotlib.pyplot as plt\n",
    "import numpy as np\n",
    "\n",
    "# 创建一些示例数据\n",
    "x = np.array(list(range(len(times))))\n",
    "y = np.array(times)\n",
    "\n",
    "# 设置样式\n",
    "plt.style.use('seaborn-darkgrid')  # 使用seaborn风格，也可以选择其他风格\n",
    "\n",
    "# 绘制折线图\n",
    "plt.plot(x, y, label='Train Loss', color='blue', linewidth=2, marker='o', markersize=8)\n",
    "\n",
    "# 添加标题和标签\n",
    "plt.title('Train Loss')\n",
    "plt.xlabel('X-axis')\n",
    "plt.ylabel('Y-axis')\n",
    "\n",
    "# 添加图例\n",
    "plt.legend()\n",
    "\n",
    "# 显示网格\n",
    "plt.grid(True)\n",
    "\n",
    "# 显示图形\n",
    "plt.show()\n"
   ],
   "metadata": {
    "collapsed": false,
    "ExecuteTime": {
     "end_time": "2023-12-03T12:33:33.672458900Z",
     "start_time": "2023-12-03T12:33:33.503973400Z"
    }
   },
   "id": "9983e14613ed7ac"
  },
  {
   "cell_type": "code",
   "execution_count": 13,
   "outputs": [],
   "source": [],
   "metadata": {
    "collapsed": false,
    "ExecuteTime": {
     "end_time": "2023-12-03T12:32:01.584051800Z",
     "start_time": "2023-12-03T12:32:01.529406700Z"
    }
   },
   "id": "621db2403d69b9fa"
  }
 ],
 "metadata": {
  "kernelspec": {
   "display_name": "Python 3",
   "language": "python",
   "name": "python3"
  },
  "language_info": {
   "codemirror_mode": {
    "name": "ipython",
    "version": 2
   },
   "file_extension": ".py",
   "mimetype": "text/x-python",
   "name": "python",
   "nbconvert_exporter": "python",
   "pygments_lexer": "ipython2",
   "version": "2.7.6"
  }
 },
 "nbformat": 4,
 "nbformat_minor": 5
}
